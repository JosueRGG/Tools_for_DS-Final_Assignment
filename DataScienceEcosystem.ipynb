{
 "cells": [
  {
   "cell_type": "markdown",
   "id": "c4a849dd-455a-4620-8104-c19ec03a724a",
   "metadata": {},
   "source": [
    "# Data Science Tools and Ecosystem"
   ]
  },
  {
   "cell_type": "markdown",
   "id": "8577e8a6-0052-4c0f-be9e-57f817666551",
   "metadata": {},
   "source": [
    "<blockquote> In this Notebook, we applied all the tools or options \n",
    "that you can use in Jupyter to make a informative project. <blockquote\\>"
   ]
  },
  {
   "cell_type": "markdown",
   "id": "027bb459-72d5-48d0-8081-5ee17f98eb0b",
   "metadata": {},
   "source": [
    "**Objetives:**\n",
    "<ul>\n",
    "    <li>Popular languages for Data Science</li>\n",
    "    <li>Libraries on Python for Data Science</li>\n",
    "    <li>IDE's for Data Science</li>\n",
    "    <li>Simple arithmetic operations</li>\n",
    "</ul>"
   ]
  },
  {
   "cell_type": "markdown",
   "id": "8be7f5e6-96c5-4d70-9354-2d3ec3d6b4c6",
   "metadata": {},
   "source": [
    "> Some of the popular languages that Data Scientists use are:\n",
    "<ol>\n",
    "<li> Python </li>\n",
    "<li> R </li>\n",
    "<li> SQL </li>\n",
    "<li> Java </li>\n",
    "<li> Julia </li>\n",
    "</ol>"
   ]
  },
  {
   "cell_type": "markdown",
   "id": "0d835aac-259c-4cfb-95d5-412ead365e6b",
   "metadata": {},
   "source": [
    "> Some of the commonly used libraries used by Data Scientists in Python are:\n",
    "<ol>\n",
    "<li> Pandas </li>\n",
    "<li> NumPy </li>\n",
    "<li> Scipy </li>\n",
    "<li> Matplotlib </li>\n",
    "</ol>"
   ]
  },
  {
   "cell_type": "markdown",
   "id": "fd736592-8e67-41e3-b95e-44e8a4563ccc",
   "metadata": {},
   "source": [
    "> Table of IDE's for Data Science\n",
    "\n",
    "<table>\n",
    "    <tr>\n",
    "        <th>Data Science Tools</th>\n",
    "    </tr>\n",
    "    <tr>\n",
    "        <td>Visual Studio Code</td>\n",
    "    </tr>\n",
    "    <tr>\n",
    "        <td>Spyder</td>\n",
    "    </tr>\n",
    "    <tr>\n",
    "        <td>Jupyter Notebooks</td>\n",
    "    </tr>\n",
    "</table>>"
   ]
  },
  {
   "cell_type": "markdown",
   "id": "365ff3c8-a4b2-4a6f-ba64-432ec523edda",
   "metadata": {},
   "source": [
    "### Below are a few examples of evaluating arithmetic expressions in Python"
   ]
  },
  {
   "cell_type": "code",
   "execution_count": 23,
   "id": "4853b942-4ce0-4930-b910-0439331ec5ef",
   "metadata": {},
   "outputs": [
    {
     "name": "stdout",
     "output_type": "stream",
     "text": [
      "17\n"
     ]
    }
   ],
   "source": [
    "print((3*4)+5)\n",
    "# This is a simple arithmetic expression to mutiply then add integers"
   ]
  },
  {
   "cell_type": "code",
   "execution_count": 25,
   "id": "46835c1a-8b23-4e9f-9afa-6d3202857606",
   "metadata": {},
   "outputs": [
    {
     "name": "stdout",
     "output_type": "stream",
     "text": [
      "The number of hours is: 3.3333333333333335\n"
     ]
    }
   ],
   "source": [
    "# The next code will convert n numer of minutes into hours\n",
    "# When we divided the number of minutes by 60,\n",
    "# we will obtain the number of hours\n",
    "\n",
    "n = 200\n",
    "h = n/60\n",
    "print(\"The number of hours is:\", h)"
   ]
  },
  {
   "cell_type": "markdown",
   "id": "3e788b30-a899-4368-a488-a0969a26f539",
   "metadata": {},
   "source": [
    "## Author\n",
    "Josue Raul Gonzalez"
   ]
  },
  {
   "cell_type": "code",
   "execution_count": null,
   "id": "47f42694-b3d0-4e5f-a50c-189158273b1f",
   "metadata": {},
   "outputs": [],
   "source": []
  }
 ],
 "metadata": {
  "kernelspec": {
   "display_name": "Python 3 (ipykernel)",
   "language": "python",
   "name": "python3"
  },
  "language_info": {
   "codemirror_mode": {
    "name": "ipython",
    "version": 3
   },
   "file_extension": ".py",
   "mimetype": "text/x-python",
   "name": "python",
   "nbconvert_exporter": "python",
   "pygments_lexer": "ipython3",
   "version": "3.12.4"
  }
 },
 "nbformat": 4,
 "nbformat_minor": 5
}
